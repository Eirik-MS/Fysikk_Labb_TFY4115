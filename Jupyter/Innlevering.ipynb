{
 "cells": [
  {
   "cell_type": "code",
   "execution_count": null,
   "metadata": {
    "vscode": {
     "languageId": "latex"
    }
   },
   "outputs": [],
   "source": [
    "\\begin{}\n",
    "\\title{Fysikklab}\n",
    "\\author{Olve Birkeland, Linn Elise Klingenberg, Cornelius Levai, Erik Mathias Silnes, Ketis Sivanesarajah}\n",
    "\n",
    "\\end{}"
   ]
  },
  {
   "cell_type": "code",
   "execution_count": null,
   "metadata": {
    "vscode": {
     "languageId": "latex"
    }
   },
   "outputs": [],
   "source": [
    "# 1.3 Teori (Linn)\n",
    "\n",
    "\\subtitle{Teori}\n",
    "\\subsubtitle{Utledning fra Newtons 2. lov}\n",
    "\\section{\n",
    "    Newtons 2. lov sier at summen av et systems ytre krefter er lik systemets masse ganget med akselerasjonen. \\begin{equation}\n",
    "        \\sum F = m \\times a\n",
    "    \\end{equation}\n",
    "    \n",
    "}"
   ]
  },
  {
   "cell_type": "markdown",
   "metadata": {
    "vscode": {
     "languageId": "latex"
    }
   },
   "source": [
    "# Fysikklabb\n",
    "### \n"
   ]
  },
  {
   "cell_type": "markdown",
   "metadata": {
    "vscode": {
     "languageId": "latex"
    }
   },
   "source": [
    "# Metode (Ketis)\n",
    "\n",
    "## \n",
    "\n"
   ]
  },
  {
   "cell_type": "markdown",
   "metadata": {},
   "source": [
    "# Resultater ()\n",
    "## Simulering\n",
    "Det ble brukt numerisk analyse for å få en modell på hvordan kulen ville bevege seg gjennom kulebanen. Banen ble satt opp ved å benytte seg av startverdien 300 også generere tilfeldige tall som skapte en bane. Alle beregningene ble gjort ved å lage pythonskript for å gjøre utregningene og plotte grafene. \n",
    "\n",
    "\n",
    "\n",
    "Beregnet rulltid, slutthastighet og kinetisk energi i sluttpunktet.\n",
    "M˚alt rulletid, slutthastighet, kinetisk energi i sluttpunktet og tap i\n",
    "mekanisk energi oppgis med middelverdi og standardfeil. Resultatavsnittet\n",
    "inneholder ogs˚a (som et minimum) disse figurene:\n",
    "– Beregnet baneform y(x) sammen med m˚alt y(x) for et av rulleforsøkene\n",
    "– Beregnet fart v(x) sammen med m˚alt v(x) for et av rulleforsøkene\n",
    "– Beregnet friksjonskraft f(x)\n",
    "– Beregnet normalkraft N(x)\n",
    "– Beregnet forhold |f(x)/N(x)|\n",
    "\n",
    "\n",
    "```python\n",
    "\n",
    "```python\n",
    "\n",
    "\n",
    "## Eksperiment\n",
    "\n"
   ]
  },
  {
   "cell_type": "markdown",
   "metadata": {},
   "source": [
    "# Diskusjon (Olve)"
   ]
  }
 ],
 "metadata": {
  "kernelspec": {
   "display_name": "Python 3",
   "language": "python",
   "name": "python3"
  },
  "language_info": {
   "codemirror_mode": {
    "name": "ipython",
    "version": 3
   },
   "file_extension": ".py",
   "mimetype": "text/x-python",
   "name": "python",
   "nbconvert_exporter": "python",
   "pygments_lexer": "ipython3",
   "version": "3.12.0"
  },
  "orig_nbformat": 4
 },
 "nbformat": 4,
 "nbformat_minor": 2
}
